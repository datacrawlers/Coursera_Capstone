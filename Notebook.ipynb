#Coursera_Capstone Project
##Week 1 Assignment - Peer Review

>This is the Coursera Project - Week 1 Assignment


import pandas as pd
import numpy as np

print('Hello Capstone Project Course!')
